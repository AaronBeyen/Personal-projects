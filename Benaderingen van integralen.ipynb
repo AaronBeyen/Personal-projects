{
 "cells": [
  {
   "cell_type": "code",
   "execution_count": 1,
   "metadata": {},
   "outputs": [],
   "source": [
    "import sympy as sp\n",
    "import numpy as np\n",
    "import matplotlib as mpl\n",
    "from mpl_toolkits.mplot3d import Axes3D\n",
    "import matplotlib.pyplot as plt\n",
    "import matplotlib.animation as animation\n",
    "\n",
    "from IPython.display import display\n",
    "sp.init_printing()\n",
    "%matplotlib notebook"
   ]
  },
  {
   "cell_type": "code",
   "execution_count": 2,
   "metadata": {},
   "outputs": [],
   "source": [
    "# Trapezoid Rule"
   ]
  },
  {
   "cell_type": "code",
   "execution_count": 3,
   "metadata": {},
   "outputs": [
    {
     "name": "stdout",
     "output_type": "stream",
     "text": [
      "De benaderde waarde is : 1.61799770451626\n",
      "De schatting voor de benaderingsfout is : 0.00260416666666667\n"
     ]
    }
   ],
   "source": [
    "x = sp.symbols('x', real = True)\n",
    "f = sp.Function('f')\n",
    "f(x)\n",
    "\n",
    "f = sp.sqrt(2+sp.sin(sp.pi*x))\n",
    "\n",
    "a = 0            # Geef hier de linkergrens aan\n",
    "b = 1             # Geef hier de rechtergrens aan\n",
    "n = 8           # Geef hier de n uit de formules een waarde\n",
    "K = 2   # Geef mij een constante waarde waarvoor geldt dat |f\"(x)| <= K\n",
    "\n",
    "h = (b-a)/n\n",
    "\n",
    "T_n = 0\n",
    "\n",
    "for i in range(0, n+1):\n",
    "    x_i = a + h*i\n",
    "    if i == 0 or i == n:\n",
    "        T_n = T_n + 0.5 *f.replace(x, x_i)\n",
    "    else:\n",
    "        T_n = T_n + f.replace(x, x_i)\n",
    "    \n",
    "\n",
    "\n",
    "T_n = h * T_n\n",
    "\n",
    "print(\"De benaderde waarde is :\", sp.N(T_n))\n",
    "\n",
    "#echte_waarde = sp.integrate(f, (x, a, b))\n",
    "#print(\"De echte waarde is :\", echte_waarde)\n",
    "#print(\"Benaderd is dit: \", sp.N(echte_waarde))\n",
    "\n",
    "\n",
    "schatting_error = K * (b-a)**3/(12*n**2)\n",
    "print(\"De schatting voor de benaderingsfout is :\", sp.N(schatting_error))\n",
    "\n",
    "#echte_error = echte_waarde - T_n\n",
    "#print(\"De echte benaderingsfout is :\", sp.N(echte_error))"
   ]
  },
  {
   "cell_type": "code",
   "execution_count": 4,
   "metadata": {},
   "outputs": [],
   "source": [
    "# Midpoint rule"
   ]
  },
  {
   "cell_type": "code",
   "execution_count": 5,
   "metadata": {},
   "outputs": [
    {
     "name": "stdout",
     "output_type": "stream",
     "text": [
      "De benaderde waarde is : 1.62676492853900\n",
      "De schatting voor de benaderingsfout is : 0.00520833333333333\n"
     ]
    }
   ],
   "source": [
    "x = sp.symbols('x', real = True)\n",
    "f = sp.Function('f')\n",
    "f(x)\n",
    "\n",
    "f = sp.sqrt(2+sp.sin(sp.pi*x))     # Geef hier de functie binnen de integraal weer\n",
    "\n",
    "a = 0               # Geef hier de linkergrens aan\n",
    "b = 1               # Geef hier de rechtergrens aan\n",
    "n = 4               # Geef hier de n uit de formules een waarde\n",
    "K = 2     # Geef mij een constante waarde waarvoor geldt dat |f\"(x)| <= K\n",
    "\n",
    "h = (b-a)/n\n",
    "\n",
    "M_n = 0\n",
    "\n",
    "for j in range(1, n+1):\n",
    "    m_j = a + (j-0.5)*h\n",
    "    M_n = M_n + f.replace(x, m_j)\n",
    "    \n",
    "\n",
    "\n",
    "M_n = h * M_n\n",
    "\n",
    "print(\"De benaderde waarde is :\", sp.N(M_n))\n",
    "\n",
    "#echte_waarde = sp.integrate(f, (x, a, b))\n",
    "#print(\"De echte waarde is :\", echte_waarde)\n",
    "#print(\"Dit is bij benadering: \", sp.N(echte_waarde))\n",
    "\n",
    "\n",
    "schatting_error = K * (b-a)**3/(24*n**2)\n",
    "print(\"De schatting voor de benaderingsfout is :\", sp.N(schatting_error))\n",
    "\n",
    "#echte_error = echte_waarde - M_n\n",
    "#print(\"De echte benaderingsfout is :\", sp.N(echte_error))"
   ]
  },
  {
   "cell_type": "code",
   "execution_count": 6,
   "metadata": {},
   "outputs": [],
   "source": [
    "# Simpson's Rule"
   ]
  },
  {
   "cell_type": "code",
   "execution_count": 7,
   "metadata": {},
   "outputs": [
    {
     "name": "stdout",
     "output_type": "stream",
     "text": [
      "De benaderde waarde is : 0.467955235920597\n",
      "De schatting voor de benaderingsfout is : 0\n"
     ]
    }
   ],
   "source": [
    "x = sp.symbols('x', real = True)\n",
    "f = sp.Function('f')\n",
    "f(x)\n",
    "\n",
    "f = x/(1+x**2+x**5)         # Geef hier de functie in\n",
    "\n",
    "a = 0                # Geef hier de linkergrens aan\n",
    "b = 2                # Geef hier de rechtergrens aan\n",
    "n = 16               # Geef hier de n uit de formules een waarde\n",
    "K = 0              # Geef mij een constante waarde waarvoor geldt dat |f\"\"(x)| <= K\n",
    "\n",
    "h = (b-a)/n\n",
    "\n",
    "S_n = 0\n",
    "\n",
    "for i in range(0, n+1):\n",
    "    x_i = a + h*i\n",
    "    if i == 0 or i == n:\n",
    "        S_n = S_n + f.replace(x, x_i)\n",
    "    elif i%2 == 0 and i != 0:\n",
    "        S_n = S_n + 2*f.replace(x, x_i)\n",
    "    else:\n",
    "        S_n = S_n + 4 * f.replace(x, x_i)\n",
    "\n",
    "S_n = h/3 * S_n\n",
    "\n",
    "print(\"De benaderde waarde is :\", sp.N(S_n))\n",
    "\n",
    "#echte_waarde = sp.integrate(f, (x, a, b))\n",
    "#print(\"De echte waarde is :\", echte_waarde)\n",
    "#print(\"Dit is bij benadering: \", sp.N(echte_waarde))\n",
    "\n",
    "\n",
    "schatting_error = K * (b-a)**5/(180*n**4)\n",
    "print(\"De schatting voor de benaderingsfout is :\", sp.N(schatting_error))\n",
    "\n",
    "#echte_error = echte_waarde - S_n\n",
    "#print(\"De echte benaderingsfout is :\", sp.N(echte_error))\n"
   ]
  },
  {
   "cell_type": "code",
   "execution_count": 8,
   "metadata": {},
   "outputs": [],
   "source": [
    "# Romberg Integration"
   ]
  },
  {
   "cell_type": "code",
   "execution_count": 9,
   "metadata": {},
   "outputs": [
    {
     "data": {
      "image/png": "[encoded data removed]",
      "text/latex": [
       "$$0.746824018482281$$"
      ],
      "text/plain": [
       "0.746824018482281"
      ]
     },
     "execution_count": 9,
     "metadata": {},
     "output_type": "execute_result"
    }
   ],
   "source": [
    "x = sp.symbols('x', real = True)\n",
    "f = sp.Function('f')\n",
    "f(x)\n",
    "\n",
    "f = sp.exp(-x**2)\n",
    "\n",
    "def trapezoid(a,b,n):\n",
    "    a_dot = a            # Geef hier de linkergrens aan\n",
    "    b_dot = b            # Geef hier de rechtergrens aan\n",
    "    n_dot = n            # Geef hier de n uit de formules een waarde\n",
    "    \n",
    "    h = (b_dot-a_dot)/n_dot\n",
    "    \n",
    "    T_n = 0\n",
    "    \n",
    "    for i in range(0, n_dot +1):\n",
    "        x_i = a_dot + h*i\n",
    "        if i == 0 or i == n_dot:\n",
    "            T_n = T_n + 0.5 *f.replace(x, x_i)\n",
    "        else:\n",
    "            T_n = T_n + f.replace(x, x_i)\n",
    "    T_n = h * T_n\n",
    "    \n",
    "    return T_n\n",
    "\n",
    "def Romberg(j, k, a_dot, b_dot):\n",
    "    if j == 0:\n",
    "        return trapezoid(a_dot, b_dot, 2**k)\n",
    "    else:\n",
    "        R_j_dot = (4**j * Romberg(j-1, k+1, a_dot, b_dot) - Romberg(j-1, k, a_dot, b_dot))/(4**j - 1)\n",
    "    return R_j_dot\n",
    "\n",
    "\n",
    "a = 0\n",
    "b = 1\n",
    "\n",
    "j = 3   # Geef aan welke R_j je wil berekenen\n",
    "k = 0   # Om te starten, altijd k = 0 nemen, want we willen R_j = T_j_j = T_j_(j+0) vinden\n",
    "R_j = Romberg(j, k, a, b)\n",
    "\n",
    "R_j\n",
    "    "
   ]
  },
  {
   "cell_type": "code",
   "execution_count": null,
   "metadata": {},
   "outputs": [],
   "source": []
  }
 ],
 "metadata": {
  "kernelspec": {
   "display_name": "Python 3",
   "language": "python",
   "name": "python3"
  },
  "language_info": {
   "codemirror_mode": {
    "name": "ipython",
    "version": 3
   },
   "file_extension": ".py",
   "mimetype": "text/x-python",
   "name": "python",
   "nbconvert_exporter": "python",
   "pygments_lexer": "ipython3",
   "version": "3.7.0"
  }
 },
 "nbformat": 4,
 "nbformat_minor": 2
}
