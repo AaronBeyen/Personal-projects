{
 "cells": [
  {
   "cell_type": "code",
   "execution_count": 2,
   "metadata": {},
   "outputs": [],
   "source": [
    "import sympy as sp\n",
    "import numpy as np\n",
    "import matplotlib as mpl\n",
    "from mpl_toolkits.mplot3d import Axes3D\n",
    "import matplotlib.pyplot as plt\n",
    "import matplotlib.animation as animation\n",
    "\n",
    "from IPython.display import display\n",
    "sp.init_printing()\n",
    "%matplotlib notebook"
   ]
  },
  {
   "cell_type": "code",
   "execution_count": 18,
   "metadata": {},
   "outputs": [
    {
     "name": "stdout",
     "output_type": "stream",
     "text": [
      "Geef me een gok van het mogelijke antwoord. Hoe dichter je bij de echte waarde zit, hoe sneller ik het antwoord zal vinden. 0\n",
      "Het nulpunt van de door jou ingevoerde functie is (ongeveer) gelijk aan:  nan\n"
     ]
    }
   ],
   "source": [
    "x, a, e, z_0, v_0, V, g = sp.symbols('x a e z_0 v_0 V g',real=True)\n",
    "from sympy import sympify\n",
    "f = sp.Function('f')\n",
    "f(x)\n",
    "#f = sympify(input(\"Geef me een functie \"))\n",
    "\n",
    "f = sp.log(x)\n",
    "df = sp.diff(f, x)\n",
    "\n",
    "x0 = float(input(\"Geef me een gok van het mogelijke antwoord. Hoe dichter je bij de echte waarde zit, hoe sneller ik het antwoord zal vinden. \"))\n",
    "diff = sp.diff(f, x)\n",
    "x1 = x0 - f.replace(x, x0)/diff.replace(x, x0)\n",
    "\n",
    "i = 0  #Andere methode vervangt \"if i == 100\" door if abs(f.subs(x, getal_next)) < 0.0000000000000000000000000000000001\". Werkt enkel zonder extra symbolen naast de parameter x!\n",
    "\n",
    "def recursie(getal_n, getal_next, i):\n",
    "    if i == 100:\n",
    "        return getal_n\n",
    "    else:\n",
    "        oorspronkelijk_next = getal_next\n",
    "        getal_next = getal_n - f.replace(x, getal_n)/df.replace(x, getal_n)\n",
    "        getal_n = oorspronkelijk_next\n",
    "        i = i + 1\n",
    "        c = sp.simplify(recursie(getal_n, getal_next, i))\n",
    "    return c\n",
    "\n",
    "antwoord = recursie(x0, x1, i)\n",
    "print(\"Het nulpunt van de door jou ingevoerde functie is (ongeveer) gelijk aan: \", antwoord)\n"
   ]
  },
  {
   "cell_type": "code",
   "execution_count": null,
   "metadata": {},
   "outputs": [],
   "source": []
  },
  {
   "cell_type": "code",
   "execution_count": null,
   "metadata": {},
   "outputs": [],
   "source": []
  }
 ],
 "metadata": {
  "kernelspec": {
   "display_name": "Python 3",
   "language": "python",
   "name": "python3"
  },
  "language_info": {
   "codemirror_mode": {
    "name": "ipython",
    "version": 3
   },
   "file_extension": ".py",
   "mimetype": "text/x-python",
   "name": "python",
   "nbconvert_exporter": "python",
   "pygments_lexer": "ipython3",
   "version": "3.7.0"
  }
 },
 "nbformat": 4,
 "nbformat_minor": 2
}
